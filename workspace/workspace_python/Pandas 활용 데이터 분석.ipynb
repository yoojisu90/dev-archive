{
 "cells": [
  {
   "cell_type": "markdown",
   "id": "3609ab45",
   "metadata": {},
   "source": [
    "# Pandas 활용 데이터 분석"
   ]
  },
  {
   "cell_type": "markdown",
   "id": "ad1f7e5f",
   "metadata": {},
   "source": [
    "1. 키보드로 세 수를 입력받고,입력받은 세 수를 리스트에 저장하시오. 그 후 리스트에 저장된 수 중 가장 큰 수와 가장 작은 수의 차를 출력하시오."
   ]
  },
  {
   "cell_type": "code",
   "execution_count": 109,
   "id": "59446e63",
   "metadata": {},
   "outputs": [
    {
     "name": "stdout",
     "output_type": "stream",
     "text": [
      "[5, 10, 15]\n",
      "10\n"
     ]
    }
   ],
   "source": [
    "#1번 문제 풀이 작성\n",
    "result = []\n",
    "for e in range(0,3) : \n",
    "  e = int(input(f'{e+1}번째 숫자 입력 : '))\n",
    "  result.append(e)\n",
    "print(result)  \n",
    "print(max(result)-min(result))"
   ]
  },
  {
   "cell_type": "markdown",
   "id": "45634a8b",
   "metadata": {},
   "source": [
    "2. 매개변수로 두 개의 리스트를 받아, 두 개의 리스트에 저장된 모든 데이터의 합을 리턴하는 함수를 작성하시오.  \n",
    "EX> 두 매개변수 : [1,2,3] , [4,5,6] / 결과 : 21"
   ]
  },
  {
   "cell_type": "code",
   "execution_count": 111,
   "id": "64188f9f",
   "metadata": {},
   "outputs": [
    {
     "name": "stdout",
     "output_type": "stream",
     "text": [
      "21\n"
     ]
    }
   ],
   "source": [
    "#2번 문제 풀이 작성\n",
    "def getSumList(list1, list2) :\n",
    "  newList = list1+list2\n",
    "  return(sum(newList))\n",
    "print(getSumList([1,2,3],[4,5,6]))"
   ]
  },
  {
   "cell_type": "markdown",
   "id": "2e03b884",
   "metadata": {},
   "source": [
    "3. 매개변수로 두 개의 리스트를 받아, 두 개의 리스트에 중복으로 저장된 데이터만을 갖는  새로운 리스트를 리턴하는 함수를 작성하시오.  \n",
    "EX> 두 매개변수 : [1,3,5,7,9] , [1,2,3,4,5] / 결과 : [1,3,5]"
   ]
  },
  {
   "cell_type": "code",
   "execution_count": 112,
   "id": "06603c1d",
   "metadata": {},
   "outputs": [
    {
     "name": "stdout",
     "output_type": "stream",
     "text": [
      "[1, 3, 5]\n"
     ]
    }
   ],
   "source": [
    "#3번 문제 풀이 작성\n",
    "def newList(list1, list2) : \n",
    "  set1 = set(list1)\n",
    "  set2 = set(list2)\n",
    "  newListData = set1.intersection(set2)\n",
    "  result = list(newListData)\n",
    "  return(result)\n",
    "print(newList([1,3,5,7,9],[1,2,3,4,5]))"
   ]
  },
  {
   "cell_type": "markdown",
   "id": "cfde14e4",
   "metadata": {},
   "source": [
    "4. 이름, 나이, 국어점수, 영어점수, 수학점수를 데이터로 갖는 student 딕셔너리를 만드시오. 각 데이터는 키보드로 입력받아 저장하시오."
   ]
  },
  {
   "cell_type": "code",
   "execution_count": 113,
   "id": "3bec11d1",
   "metadata": {},
   "outputs": [
    {
     "name": "stdout",
     "output_type": "stream",
     "text": [
      "{'이름': '김자바', '나이': 30, '국어점수': 70, '영어점수': 85, '수학점수': 80}\n"
     ]
    }
   ],
   "source": [
    "#4번 문제 풀이 작성\n",
    "student = {\n",
    "  '이름' : '',\n",
    "  '나이' : '',\n",
    "  '국어점수' : '',\n",
    "  '영어점수' : '',\n",
    "  '수학점수' : ''\n",
    "}\n",
    "\n",
    "student['이름'] = input('이름 입력 : ')\n",
    "student['나이'] = int(input('나이 입력 : '))\n",
    "student['국어점수'] = int(input('국어점수 입력 : '))\n",
    "student['영어점수'] = int(input('영어점수 입력 : '))\n",
    "student['수학점수'] = int(input('수학점수 입력 : '))\n",
    "\n",
    "print(student)"
   ]
  },
  {
   "cell_type": "markdown",
   "id": "bfdfd34d",
   "metadata": {},
   "source": [
    "5. 4번 문제에서 만든 딕셔너리 데이터에 총점 데이터를 추가하시오. 총점 데이터는 국어,영어, 수학점수의 합으로 들어가야합니다."
   ]
  },
  {
   "cell_type": "code",
   "execution_count": 114,
   "id": "98179e8a",
   "metadata": {},
   "outputs": [
    {
     "name": "stdout",
     "output_type": "stream",
     "text": [
      "{'이름': '김자바', '나이': 30, '국어점수': 70, '영어점수': 85, '수학점수': 80, '총점': 235}\n"
     ]
    }
   ],
   "source": [
    "#5번 문제 풀이 작성\n",
    "student['총점'] = student['국어점수'] + student['영어점수'] + student['수학점수']\n",
    "\n",
    "print(student)"
   ]
  },
  {
   "cell_type": "markdown",
   "id": "ec5ad5ab",
   "metadata": {},
   "source": [
    "6. 아래 딕셔너리 데이터에 stu_grade라는 키를 추가하고, 해당 키의  데이터로  점수(stu_score)에 따른 등급 데이터를 저장하시오.  \n",
    "90 <= 점수      : A등급  \n",
    "80 <= 점수 < 90 : B등급  \n",
    "70 <= 점수 < 80 : C등급  \n",
    "      점수 < 70 : D등급 "
   ]
  },
  {
   "cell_type": "code",
   "execution_count": 115,
   "id": "c53fe493",
   "metadata": {},
   "outputs": [
    {
     "name": "stdout",
     "output_type": "stream",
     "text": [
      "{'stu_no': [1, 2, 3, 4, 5], 'stu_name': ['김자바', '이자바', '박자바', '최자바', '정자바'], 'stu_score': [85, 65, 70, 80, 95], 'stu_grade': ['B등급', 'D등급', 'C등급', 'B등급', 'A등급']}\n"
     ]
    }
   ],
   "source": [
    "class_room_data = {\n",
    "    'stu_no' : [1, 2, 3, 4, 5],\n",
    "    'stu_name' : ['김자바', '이자바', '박자바', '최자바', '정자바'],\n",
    "    'stu_score' : [85, 65, 70, 80, 95]\n",
    "}\n",
    "\n",
    "#6번 문제 풀이 작성\n",
    "class_room_data['stu_grade'] = []\n",
    "\n",
    "for e in class_room_data['stu_score'] : \n",
    "  if e >= 90 :\n",
    "    class_room_data['stu_grade'].append('A등급')\n",
    "  elif e >= 80 :\n",
    "    class_room_data['stu_grade'].append('B등급')\n",
    "  elif e >= 70 :\n",
    "    class_room_data['stu_grade'].append('C등급')\n",
    "  else : \n",
    "    class_room_data['stu_grade'].append('D등급')\n",
    "\n",
    "print(class_room_data)  \n"
   ]
  },
  {
   "cell_type": "markdown",
   "id": "9190a70a",
   "metadata": {},
   "source": [
    "7. 아래 데이터는 자바반과 자반에 소속된 학생들의 정보이다.  \n",
    "나이가 30살 이상인 학생들의 점수의 합을 출력하세요."
   ]
  },
  {
   "cell_type": "code",
   "execution_count": 118,
   "id": "7011a6ed",
   "metadata": {},
   "outputs": [
    {
     "name": "stdout",
     "output_type": "stream",
     "text": [
      "[85, 95, 70]\n",
      "나이가 30살 이상인 학생들의 점수의 합은 250점\n"
     ]
    }
   ],
   "source": [
    "javaClass= {\n",
    "  'calssName' : '자바반',\n",
    "  'teacher' : '김자바',\n",
    "  'studentList' : [\n",
    "    {'name' : '홍길동', 'age': 31, 'score' : 85},\n",
    "    {'name' : '이순신', 'age': 35, 'score' : 95},\n",
    "    {'name' : '유관순', 'age': 29, 'score' : 80},\n",
    "    {'name' : '장영실', 'age': 37, 'score' : 70},\n",
    "    {'name' : '신사임당', 'age': 25, 'score' : 65},\n",
    "  ]\n",
    "}\n",
    "\n",
    "# 7번 문제 답안 작성\n",
    "result = []\n",
    "for e in javaClass['studentList'] :\n",
    "  if e['age'] >= 30 :\n",
    "    result.append(e['score'])\n",
    "print(result)\n",
    "print(f'나이가 30살 이상인 학생들의 점수의 합은 {sum(result)}점')"
   ]
  },
  {
   "cell_type": "markdown",
   "id": "8f4bf8e7",
   "metadata": {},
   "source": [
    "다음 딕셔너리 데이터를 참고하여 아래 문제들을 해결하시오."
   ]
  },
  {
   "cell_type": "code",
   "execution_count": 127,
   "id": "430a8a07",
   "metadata": {},
   "outputs": [],
   "source": [
    "# 2012년 광역시별 25세 미만 연령별 인구 데이터\n",
    "population = {\n",
    "    '행정기관' : ['서울특별시', '부산광역시', '대구광역시', '인천광역시', '울산광역시'],\n",
    "    '0~4세' : [214651, 68006, 53515, 69453, 29835],\n",
    "    '5~9세' : [210833, 68704, 58332, 68555, 29331],\n",
    "    '10~14세' : [269171, 94802, 91268, 86574, 29035],\n",
    "    '15~19세' : [335828, 124564, 101110, 106435, 49119],\n",
    "    '20~24세' : [343797, 125907, 96078, 102297, 43937]\n",
    "}"
   ]
  },
  {
   "cell_type": "markdown",
   "id": "9fb883b0",
   "metadata": {},
   "source": [
    "8. 2012년 기준 대한민국에서 25세 미만의 인구수 중 인구가 가장 많은 연령대를 출력하시오."
   ]
  },
  {
   "cell_type": "code",
   "execution_count": 128,
   "id": "7eb47dd2",
   "metadata": {},
   "outputs": [
    {
     "name": "stdout",
     "output_type": "stream",
     "text": [
      "0~4세 435460\n",
      "5~9세 435755\n",
      "10~14세 570850\n",
      "15~19세 717056\n",
      "20~24세 712016\n",
      "인구가 가장 많은 연령대는 15~19세\n"
     ]
    }
   ],
   "source": [
    "# 8번 문제 답안 작성\n",
    "organ = ''\n",
    "maxSum = 0\n",
    "for e in population :\n",
    "  if e != '행정기관' :\n",
    "    result=sum(population[e])\n",
    "    print(e, result)\n",
    "    if result > maxSum :\n",
    "      maxSum = result\n",
    "      organ = e\n",
    "      \n",
    "print(f'인구가 가장 많은 연령대는 {organ}')"
   ]
  },
  {
   "cell_type": "markdown",
   "id": "8360f3ef",
   "metadata": {},
   "source": [
    "9. '총 인구수' 라는 키를 추가하고, 해당 키에 0세부터 24세까지의 인구 합을 데이터로 하여 population 데이터에 추가하시오."
   ]
  },
  {
   "cell_type": "code",
   "execution_count": 129,
   "id": "47129ee7",
   "metadata": {},
   "outputs": [
    {
     "name": "stdout",
     "output_type": "stream",
     "text": [
      "{'행정기관': ['서울특별시', '부산광역시', '대구광역시', '인천광역시', '울산광역시'], '0~4세': [214651, 68006, 53515, 69453, 29835], '5~9세': [210833, 68704, 58332, 68555, 29331], '10~14세': [269171, 94802, 91268, 86574, 29035], '15~19세': [335828, 124564, 101110, 106435, 49119], '20~24세': [343797, 125907, 96078, 102297, 43937], '총 인구수': 2871137}\n"
     ]
    }
   ],
   "source": [
    "# 9번 문제 답안 작성\n",
    "newSumList = []\n",
    "for e in population :\n",
    "  if e != '행정기관' :\n",
    "    result=sum(population[e])\n",
    "    newSumList.append(result)\n",
    "    \n",
    "population['총 인구수'] = sum(newSumList)\n",
    "print(population)"
   ]
  }
 ],
 "metadata": {
  "kernelspec": {
   "display_name": "Python 3",
   "language": "python",
   "name": "python3"
  },
  "language_info": {
   "codemirror_mode": {
    "name": "ipython",
    "version": 3
   },
   "file_extension": ".py",
   "mimetype": "text/x-python",
   "name": "python",
   "nbconvert_exporter": "python",
   "pygments_lexer": "ipython3",
   "version": "3.13.7"
  }
 },
 "nbformat": 4,
 "nbformat_minor": 5
}

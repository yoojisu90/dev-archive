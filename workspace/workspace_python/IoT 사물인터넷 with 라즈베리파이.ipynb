{
 "cells": [
  {
   "cell_type": "markdown",
   "id": "960b54ab",
   "metadata": {},
   "source": [
    "### IoT 사물인터넷 with 라즈베리파이"
   ]
  },
  {
   "cell_type": "markdown",
   "id": "a127f87d",
   "metadata": {},
   "source": [
    "1. 키보드로 세 정수를 입력받아, 큰 수부터 출력하시오. 입력받은 수에 중복은 없다고 가정한다."
   ]
  },
  {
   "cell_type": "code",
   "execution_count": 124,
   "id": "4e6e3ea4",
   "metadata": {},
   "outputs": [
    {
     "name": "stdout",
     "output_type": "stream",
     "text": [
      "1000 10 2\n"
     ]
    }
   ],
   "source": [
    "a = int(input('정수 입력 : '))\n",
    "b = int(input('정수 입력 : '))\n",
    "c = int(input('정수 입력 : '))\n",
    "maxInt = 0\n",
    "midInt = 0\n",
    "minInt = 0\n",
    "\n",
    "if a > b and a > c and b > c :\n",
    "  maxInt = a\n",
    "  midInt = b\n",
    "  minInt = c\n",
    "elif a > b and a > c and c > b :\n",
    "  maxInt = a\n",
    "  midInt = c\n",
    "  minInt = b\n",
    "elif b > a and b > c and a > c :\n",
    "  maxInt = b\n",
    "  midInt = a\n",
    "  minInt = c\n",
    "elif b > a and b > c and c > a :\n",
    "  maxInt = b\n",
    "  midInt = c\n",
    "  minInt = a\n",
    "elif c > a and c > b and a > b :\n",
    "  maxInt = c\n",
    "  midInt = a\n",
    "  minInt = b\n",
    "elif c > a and c > b and b > a :\n",
    "  maxInt = c\n",
    "  midInt = b\n",
    "  minInt = a    \n",
    "print(maxInt,midInt,minInt)\n"
   ]
  },
  {
   "cell_type": "markdown",
   "id": "eecebea4",
   "metadata": {},
   "source": [
    "2. 매개변수로 전달되는 수의 구구단을 출력하는 함수를 선언하시오."
   ]
  },
  {
   "cell_type": "code",
   "execution_count": 125,
   "id": "d87dac44",
   "metadata": {},
   "outputs": [
    {
     "name": "stdout",
     "output_type": "stream",
     "text": [
      "7 * 1 = 7\n",
      "7 * 2 = 14\n",
      "7 * 3 = 21\n",
      "7 * 4 = 28\n",
      "7 * 5 = 35\n",
      "7 * 6 = 42\n",
      "7 * 7 = 49\n",
      "7 * 8 = 56\n",
      "7 * 9 = 63\n"
     ]
    }
   ],
   "source": [
    "def gugudan(num1) : \n",
    "  for e in range(1,10) :\n",
    "    result=(f'{num1} * {e} = {num1*e}')\n",
    "    print(result)\n",
    "\n",
    "gugudan(7)\n"
   ]
  },
  {
   "cell_type": "markdown",
   "id": "77001677",
   "metadata": {},
   "source": [
    "3. 1부터 20까지의 숫자 중에서 홀수만 리스트에 저장하고 출력하는 코드를 작성하시오."
   ]
  },
  {
   "cell_type": "code",
   "execution_count": 126,
   "id": "98bf2c8b",
   "metadata": {},
   "outputs": [
    {
     "name": "stdout",
     "output_type": "stream",
     "text": [
      "[1, 3, 5, 7, 9, 11, 13, 15, 17, 19]\n"
     ]
    }
   ],
   "source": [
    "oddList = []\n",
    "for e in range(1,21) :\n",
    "  if e % 2 == 1 :\n",
    "    oddList.append(e)\n",
    "print(oddList)"
   ]
  },
  {
   "cell_type": "markdown",
   "id": "ff945732",
   "metadata": {},
   "source": [
    "4. 다음 리스트에 저장된 모든 연락처의 중간 네자리 숫자의 합을 구하여 출력하시오."
   ]
  },
  {
   "cell_type": "code",
   "execution_count": 127,
   "id": "0ba0b584",
   "metadata": {},
   "outputs": [
    {
     "name": "stdout",
     "output_type": "stream",
     "text": [
      "8000\n"
     ]
    }
   ],
   "source": [
    "phoneNumbers = [\n",
    "  '010-1000-2222',\n",
    "  '010-2000-3333',\n",
    "  '010-5000-4444'\n",
    "]\n",
    "\n",
    "newSumList = []\n",
    "for e in phoneNumbers :\n",
    "  newSumList.append(int(e[4:8]))\n",
    "print(sum(newSumList))  \n"
   ]
  },
  {
   "cell_type": "markdown",
   "id": "9cb6d45e",
   "metadata": {},
   "source": [
    "5. 아래 딕셔너리 데이터를 참고하여, 모든 학생의 평균 점수를 구하는 코드를 작성하시오."
   ]
  },
  {
   "cell_type": "code",
   "execution_count": 128,
   "id": "0846bd90",
   "metadata": {},
   "outputs": [
    {
     "name": "stdout",
     "output_type": "stream",
     "text": [
      "모든 학생의 평균 점수는 85.0점 입니다\n"
     ]
    }
   ],
   "source": [
    "students = {\n",
    "  \"김철수\": 85, \n",
    "  \"이영희\": 92, \n",
    "  \"박민수\": 78\n",
    "}\n",
    "\n",
    "totalScore = students[\"김철수\"]+students[\"이영희\"]+students[\"박민수\"]\n",
    "stuLength = len(students)\n",
    "print(f'모든 학생의 평균 점수는 {totalScore/stuLength}점 입니다')\n"
   ]
  },
  {
   "cell_type": "markdown",
   "id": "f91bc629",
   "metadata": {},
   "source": [
    "다음 상품 정보 데이터를 참고하여 문제를 푸시오."
   ]
  },
  {
   "cell_type": "code",
   "execution_count": 129,
   "id": "5e6257af",
   "metadata": {},
   "outputs": [],
   "source": [
    "products = [\n",
    "    {\"이름\": \"노트북\", \"가격\": 50000},\n",
    "    {\"이름\": \"마우스\", \"가격\": 8000},\n",
    "    {\"이름\": \"키보드\", \"가격\": 15000},\n",
    "    {\"이름\": \"모니터\", \"가격\": 30000},\n",
    "    {\"이름\": \"USB\", \"가격\": 5000}\n",
    "]"
   ]
  },
  {
   "cell_type": "markdown",
   "id": "86bbc79d",
   "metadata": {},
   "source": [
    "6. 위 products 데이터에 키보드로 입력한 이름과 가격을 갖는 상품을 추가하는 코드를 작성하시오."
   ]
  },
  {
   "cell_type": "code",
   "execution_count": 130,
   "id": "e99f425b",
   "metadata": {},
   "outputs": [
    {
     "name": "stdout",
     "output_type": "stream",
     "text": [
      "[{'이름': '노트북', '가격': 50000}, {'이름': '마우스', '가격': 8000}, {'이름': '키보드', '가격': 15000}, {'이름': '모니터', '가격': 30000}, {'이름': 'USB', '가격': 5000}, {'이름': '컴퓨터', '가격': 20000}]\n"
     ]
    }
   ],
   "source": [
    "dic1 = {\"이름\": input('이름 입력 : '), \"가격\" : int(input('가격 입력 : '))}\n",
    "products.append(dic1)\n",
    "\n",
    "print(products)"
   ]
  },
  {
   "cell_type": "markdown",
   "id": "669b1e5b",
   "metadata": {},
   "source": [
    "7. 가격이 10000원 이상인 상품들만 필터링하여 새로운 리스트로 만드는 코드를 작성하시오."
   ]
  },
  {
   "cell_type": "code",
   "execution_count": 131,
   "id": "fd709e97",
   "metadata": {},
   "outputs": [
    {
     "name": "stdout",
     "output_type": "stream",
     "text": [
      "[{'이름': '노트북', '가격': 50000}, {'이름': '키보드', '가격': 15000}, {'이름': '모니터', '가격': 30000}, {'이름': '컴퓨터', '가격': 20000}]\n"
     ]
    }
   ],
   "source": [
    "newList = []\n",
    "for e in products :\n",
    "  if e[\"가격\"] >= 10000 :\n",
    "    newList.append(e)\n",
    "print(newList)    "
   ]
  },
  {
   "cell_type": "markdown",
   "id": "72369208",
   "metadata": {},
   "source": [
    "8. 키보드로 입력한 이름을 갖는 상품을 products 데이터에서 삭제하는 코드를 작성하시오."
   ]
  },
  {
   "cell_type": "code",
   "execution_count": 132,
   "id": "9ee9a214",
   "metadata": {},
   "outputs": [
    {
     "name": "stdout",
     "output_type": "stream",
     "text": [
      "[{'이름': '노트북', '가격': 50000}, {'이름': '마우스', '가격': 8000}, {'이름': '키보드', '가격': 15000}, {'이름': 'USB', '가격': 5000}, {'이름': '컴퓨터', '가격': 20000}]\n"
     ]
    }
   ],
   "source": [
    "#키보드 입력\n",
    "productName = input('삭제할 상품의 이름')\n",
    "\n",
    "#producks 리스트에 저장된 데이터의 수만큼 반복\n",
    "for i, e in enumerate(products) :\n",
    "  if e['이름'] == productName :\n",
    "    del products[i]\n",
    "print(products)    "
   ]
  }
 ],
 "metadata": {
  "kernelspec": {
   "display_name": "Python 3",
   "language": "python",
   "name": "python3"
  },
  "language_info": {
   "codemirror_mode": {
    "name": "ipython",
    "version": 3
   },
   "file_extension": ".py",
   "mimetype": "text/x-python",
   "name": "python",
   "nbconvert_exporter": "python",
   "pygments_lexer": "ipython3",
   "version": "3.13.7"
  }
 },
 "nbformat": 4,
 "nbformat_minor": 5
}

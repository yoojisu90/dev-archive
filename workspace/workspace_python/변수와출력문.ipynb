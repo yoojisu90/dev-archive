{
 "cells": [
  {
   "cell_type": "markdown",
   "id": "66b271c9",
   "metadata": {},
   "source": [
    "### 출력문\n",
    "파이썬에서 출력문은 print() 명령어를 사용합니다."
   ]
  },
  {
   "cell_type": "code",
   "execution_count": 2,
   "id": "f07fc9ec",
   "metadata": {},
   "outputs": [],
   "source": [
    "# 이것은 주석입니다."
   ]
  },
  {
   "cell_type": "code",
   "execution_count": 6,
   "id": "57016beb",
   "metadata": {},
   "outputs": [
    {
     "name": "stdout",
     "output_type": "stream",
     "text": [
      "10\n",
      "문자는 홀따옴표에 감싼다\n",
      "문자는 쌍따옴표도 가능하다\n"
     ]
    }
   ],
   "source": [
    "# 파이썬 명령어는 마지막에 세미콜론 붙이지 않음!\n",
    "print(10)\n",
    "print('문자는 홀따옴표에 감싼다')\n",
    "print(\"문자는 쌍따옴표도 가능하다\")"
   ]
  },
  {
   "cell_type": "code",
   "execution_count": null,
   "id": "152de6ac",
   "metadata": {},
   "outputs": [
    {
     "name": "stdout",
     "output_type": "stream",
     "text": [
      "15\n",
      "2.5\n",
      "2\n",
      "2\n",
      "javapython\n"
     ]
    }
   ],
   "source": [
    "# 연산 결과의 출력\n",
    "print(10 + 5)\n",
    "print(10 / 4) #연산 결과가 실수면 실수값이 나옴\n",
    "print(10 // 4) #나눗셈의 몫\n",
    "print(10 % 4) #나눗셈의 나머지\n",
    "print('java' + 'python')\n",
    "#print('python' + 5) 파이썬은 숫자와 문자의 더하기 안 됨"
   ]
  },
  {
   "cell_type": "code",
   "execution_count": 15,
   "id": "f4a1df3f",
   "metadata": {},
   "outputs": [
    {
     "name": "stdout",
     "output_type": "stream",
     "text": [
      "10 hello 10.5\n",
      "hi\n",
      "hihi."
     ]
    }
   ],
   "source": [
    "# print() 활용\n",
    "print(10, 'hello', 10.5)\n",
    "\n",
    "# print() 함수는 'end' 매개변수로 출력 후 실행 코드를 작성할 수 있음\n",
    "print('hi', end='\\n')\n",
    "print('hi', end='')\n",
    "print('hi', end='.')"
   ]
  },
  {
   "cell_type": "markdown",
   "id": "d3c39b88",
   "metadata": {},
   "source": [
    "#### 변수\n",
    "python은 javascript와 마찬가지로 내부적으로만 자료형이 존재한다."
   ]
  },
  {
   "cell_type": "code",
   "execution_count": 16,
   "id": "009e0a8b",
   "metadata": {},
   "outputs": [
    {
     "name": "stdout",
     "output_type": "stream",
     "text": [
      "10\n"
     ]
    }
   ],
   "source": [
    "# 변수의 선언 및 초기화\n",
    "num = 10\n",
    "print(num)"
   ]
  },
  {
   "cell_type": "code",
   "execution_count": null,
   "id": "d9629417",
   "metadata": {},
   "outputs": [
    {
     "name": "stdout",
     "output_type": "stream",
     "text": [
      "이름은 홍길동 이고, 나이는 20 살 입니다\n",
      "이름은 홍길동이고, 나이는 20살 입니다\n"
     ]
    }
   ],
   "source": [
    "myName = '홍길동'\n",
    "myAge = 20\n",
    "\n",
    "#이름은 홍길동이고, 나이는 20살입니다\n",
    "print(f'이름은 {myName}이고, 나이는 {myAge}살 입니다')"
   ]
  },
  {
   "cell_type": "markdown",
   "id": "de711917",
   "metadata": {},
   "source": [
    "#### 키보드 입력"
   ]
  },
  {
   "cell_type": "code",
   "execution_count": 21,
   "id": "24b1151a",
   "metadata": {},
   "outputs": [
    {
     "name": "stdout",
     "output_type": "stream",
     "text": [
      "90\n"
     ]
    }
   ],
   "source": [
    "score = input('정수를 입력하세요 : ')\n",
    "print(score)"
   ]
  },
  {
   "cell_type": "code",
   "execution_count": 22,
   "id": "1f7f19f4",
   "metadata": {},
   "outputs": [
    {
     "name": "stdout",
     "output_type": "stream",
     "text": [
      "김자바\n"
     ]
    }
   ],
   "source": [
    "name2 = input('이름을 입력하세요 : ')\n",
    "print(name2)"
   ]
  }
 ],
 "metadata": {
  "kernelspec": {
   "display_name": "Python 3",
   "language": "python",
   "name": "python3"
  },
  "language_info": {
   "codemirror_mode": {
    "name": "ipython",
    "version": 3
   },
   "file_extension": ".py",
   "mimetype": "text/x-python",
   "name": "python",
   "nbconvert_exporter": "python",
   "pygments_lexer": "ipython3",
   "version": "3.13.7"
  }
 },
 "nbformat": 4,
 "nbformat_minor": 5
}

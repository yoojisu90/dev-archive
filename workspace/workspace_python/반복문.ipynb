{
 "cells": [
  {
   "cell_type": "code",
   "execution_count": 1,
   "id": "ea1ae729",
   "metadata": {},
   "outputs": [],
   "source": [
    "#파이썬은 일반 for문 없음!\n",
    "#파이썬은 for-each문만 있음"
   ]
  },
  {
   "cell_type": "code",
   "execution_count": 8,
   "id": "166f617f",
   "metadata": {},
   "outputs": [
    {
     "name": "stdout",
     "output_type": "stream",
     "text": [
      "1\n",
      "2\n",
      "3\n"
     ]
    }
   ],
   "source": [
    "for e in [1,2,3] :\n",
    "  print(e)\n"
   ]
  },
  {
   "cell_type": "code",
   "execution_count": 9,
   "id": "d3533f74",
   "metadata": {},
   "outputs": [
    {
     "name": "stdout",
     "output_type": "stream",
     "text": [
      "1\n",
      "2\n",
      "3\n"
     ]
    }
   ],
   "source": [
    "list1 = [1,2,3]\n",
    "for e in list1 : \n",
    "  print(e)"
   ]
  },
  {
   "cell_type": "code",
   "execution_count": null,
   "id": "5ae8abe1",
   "metadata": {},
   "outputs": [
    {
     "name": "stdout",
     "output_type": "stream",
     "text": [
      "0\n",
      "1\n",
      "2\n",
      "3\n",
      "4\n",
      "5\n",
      "6\n",
      "7\n",
      "8\n",
      "9\n",
      "9\n"
     ]
    }
   ],
   "source": [
    "# 0부터 10보다 작은 동안 반복하겠다.\n",
    "# range는 특정 데이터로 반복한다는 의미보다는,\n",
    "# 단순히 똑같은 작업을 몇번 반복할때 사용한다.\n",
    "for e in range(0, 10) : # == for(int i=0; i<10; i++)\n",
    "  print(e)\n"
   ]
  },
  {
   "cell_type": "code",
   "execution_count": 1,
   "id": "1acb46df",
   "metadata": {},
   "outputs": [
    {
     "name": "stdout",
     "output_type": "stream",
     "text": [
      "i = 0, e = 1\n",
      "i = 1, e = 2\n",
      "i = 2, e = 3\n",
      "i = 3, e = 4\n",
      "i = 4, e = 5\n",
      "15\n"
     ]
    }
   ],
   "source": [
    "#파이썬은 일반 for문이 없기 때문에 반복 횟수를 알 수 있는 index 데이터가 없다\n",
    "#그래서 for-each문에 index를 알 수 있는 문법이 추가 되어 있다.\n",
    "list1 = [1,2,3,4,5]\n",
    "for i, e in enumerate(list1) : \n",
    "  print(f'i = {i}, e = {e}')\n"
   ]
  },
  {
   "cell_type": "code",
   "execution_count": null,
   "id": "a6ad4fa5",
   "metadata": {},
   "outputs": [],
   "source": []
  },
  {
   "cell_type": "code",
   "execution_count": null,
   "id": "6be89013",
   "metadata": {},
   "outputs": [],
   "source": []
  },
  {
   "cell_type": "code",
   "execution_count": null,
   "id": "2649bb8b",
   "metadata": {},
   "outputs": [],
   "source": []
  }
 ],
 "metadata": {
  "kernelspec": {
   "display_name": "Python 3",
   "language": "python",
   "name": "python3"
  },
  "language_info": {
   "codemirror_mode": {
    "name": "ipython",
    "version": 3
   },
   "file_extension": ".py",
   "mimetype": "text/x-python",
   "name": "python",
   "nbconvert_exporter": "python",
   "pygments_lexer": "ipython3",
   "version": "3.13.7"
  }
 },
 "nbformat": 4,
 "nbformat_minor": 5
}

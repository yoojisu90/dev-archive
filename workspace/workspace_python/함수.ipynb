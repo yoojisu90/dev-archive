{
 "cells": [
  {
   "cell_type": "code",
   "execution_count": 1,
   "id": "5dceb3a5",
   "metadata": {},
   "outputs": [],
   "source": [
    "def sayHello():\n",
    "  print(1)\n",
    "  print(2)"
   ]
  },
  {
   "cell_type": "code",
   "execution_count": 2,
   "id": "32e6d3aa",
   "metadata": {},
   "outputs": [
    {
     "name": "stdout",
     "output_type": "stream",
     "text": [
      "1\n",
      "2\n"
     ]
    }
   ],
   "source": [
    "sayHello()"
   ]
  },
  {
   "cell_type": "code",
   "execution_count": 3,
   "id": "fd5d9443",
   "metadata": {},
   "outputs": [],
   "source": [
    "def getSum(a, b):\n",
    "  print(a + b)\n",
    "  return a + b"
   ]
  },
  {
   "cell_type": "code",
   "execution_count": 7,
   "id": "e09555c7",
   "metadata": {},
   "outputs": [
    {
     "name": "stdout",
     "output_type": "stream",
     "text": [
      "30\n",
      "30\n"
     ]
    }
   ],
   "source": [
    "result = getSum(10, 20)\n",
    "print(result)"
   ]
  },
  {
   "cell_type": "code",
   "execution_count": 8,
   "id": "90d95176",
   "metadata": {},
   "outputs": [],
   "source": [
    "#파이썬의 함수는 return 데이터를 여러개 가질 수 있음\n",
    "def getNumber():\n",
    "  return 10, 20, 30"
   ]
  },
  {
   "cell_type": "code",
   "execution_count": 9,
   "id": "10596863",
   "metadata": {},
   "outputs": [
    {
     "name": "stdout",
     "output_type": "stream",
     "text": [
      "10 20 30\n"
     ]
    }
   ],
   "source": [
    "r1, r2, r3 = getNumber()\n",
    "print(r1, r2, r3)"
   ]
  },
  {
   "cell_type": "code",
   "execution_count": 10,
   "id": "656155a9",
   "metadata": {},
   "outputs": [],
   "source": [
    "#파이썬은 매개변수에 데이터를 전달할때 매개변수명을 활용할 수 있음\n",
    "def printInfo(name, age) :\n",
    "  print(f'이름은 {name}이고, 나이는 {age}입니다')\n",
    "  "
   ]
  },
  {
   "cell_type": "code",
   "execution_count": 13,
   "id": "af0afe66",
   "metadata": {},
   "outputs": [
    {
     "name": "stdout",
     "output_type": "stream",
     "text": [
      "이름은 kim이고, 나이는 20입니다\n",
      "이름은 kim이고, 나이는 20입니다\n",
      "이름은 lee이고, 나이는 30입니다\n"
     ]
    }
   ],
   "source": [
    "printInfo('kim', 20)\n",
    "printInfo(name='kim', age=20)\n",
    "printInfo(age=30, name='lee')"
   ]
  },
  {
   "cell_type": "code",
   "execution_count": null,
   "id": "76d9882f",
   "metadata": {},
   "outputs": [],
   "source": []
  },
  {
   "cell_type": "code",
   "execution_count": null,
   "id": "6c1ed5aa",
   "metadata": {},
   "outputs": [],
   "source": []
  },
  {
   "cell_type": "code",
   "execution_count": null,
   "id": "6b1afbc7",
   "metadata": {},
   "outputs": [],
   "source": []
  },
  {
   "cell_type": "code",
   "execution_count": null,
   "id": "17eeaa65",
   "metadata": {},
   "outputs": [],
   "source": []
  }
 ],
 "metadata": {
  "kernelspec": {
   "display_name": "Python 3",
   "language": "python",
   "name": "python3"
  },
  "language_info": {
   "codemirror_mode": {
    "name": "ipython",
    "version": 3
   },
   "file_extension": ".py",
   "mimetype": "text/x-python",
   "name": "python",
   "nbconvert_exporter": "python",
   "pygments_lexer": "ipython3",
   "version": "3.13.7"
  }
 },
 "nbformat": 4,
 "nbformat_minor": 5
}
